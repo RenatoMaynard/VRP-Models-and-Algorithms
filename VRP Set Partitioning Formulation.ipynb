{
 "cells": [
  {
   "cell_type": "markdown",
   "id": "bf61292a",
   "metadata": {},
   "source": [
    "#  VRP Set Partitioning Formulation"
   ]
  },
  {
   "cell_type": "markdown",
   "id": "ffe96b7d",
   "metadata": {},
   "source": [
    "#### Keywords: VRP, Set Partitioning Formulation, IP, Gurobi, Python, Networkx"
   ]
  },
  {
   "cell_type": "markdown",
   "id": "193db7fc",
   "metadata": {},
   "source": [
    "$ \\text{Variables} $\n",
    "\n",
    "$y_r =\n",
    "\\begin{cases}\n",
    "1 & \\text{if route } r \\text{ is used} \\\\\n",
    "0 & \\text{otherwise}\n",
    "\\end{cases}\n",
    "\\quad \\forall r \\in \\Omega$\n",
    "\n",
    "$a_{ir} =\n",
    "\\begin{cases}\n",
    "1 & \\text{if route } r \\text{ visits customer } i \\\\\n",
    "0 & \\text{otherwise}\n",
    "\\end{cases}\n",
    "$\n",
    "\n",
    "$cost_r$ is the total cost of route $r$,  \n",
    "$\\Omega$ is the set of all feasible routes,  \n",
    "$K$ is the number of available vehicles.\n",
    "\n",
    "---\n",
    "\n",
    "\\begin{equation*}\n",
    "\\begin{aligned}\n",
    "& \\underset{}{\\text{Minimize}} \n",
    "& & \\sum_{r \\in \\Omega} cost_r \\cdot y_r \\\\\n",
    "& \\text{Subject to} \\\\\n",
    "& & \\sum_{r \\in \\Omega} a_{ir} \\cdot y_r = 1, \\quad \\forall i = 1,\\ldots,n, \\\\\n",
    "& & \\sum_{r \\in \\Omega} y_r \\le K, \\\\\n",
    "& & y_r \\in \\{0,1\\}, \\quad \\forall r \\in \\Omega.\n",
    "\\end{aligned}\n",
    "\\end{equation*}\n"
   ]
  },
  {
   "cell_type": "markdown",
   "id": "b3d32032",
   "metadata": {},
   "source": [
    "##  Import Library and Model Enviroment"
   ]
  },
  {
   "cell_type": "code",
   "execution_count": 1,
   "id": "e8dea264",
   "metadata": {},
   "outputs": [
    {
     "name": "stdout",
     "output_type": "stream",
     "text": [
      "Set parameter Username\n",
      "Academic license - for non-commercial use only - expires 2026-03-13\n"
     ]
    }
   ],
   "source": [
    "import gurobipy as gp\n",
    "from gurobipy import GRB\n",
    "import networkx as nx\n",
    "import numpy as np\n",
    "import matplotlib.pyplot as plt\n",
    "m = gp.Model(\"VRP_SetPartitioning\")"
   ]
  },
  {
   "cell_type": "markdown",
   "id": "3db5d754",
   "metadata": {},
   "source": [
    "### Create Data and Matrix of Distances"
   ]
  },
  {
   "cell_type": "code",
   "execution_count": 3,
   "id": "2666f553",
   "metadata": {},
   "outputs": [],
   "source": [
    "# -------------\n",
    "# Data\n",
    "# -------------\n",
    "\n",
    "n_customers = 6\n",
    "K = 4  # Number of vehicles (so up to 4 routes can be selected)\n",
    "\n",
    "# Suppose we have enumerated or generated feasible routes:\n",
    "# Each route r starts at 0 (depot), visits some subset of customers, and returns to 0.\n",
    "# We'll define \"routes_dict\" mapping route r -> list of nodes in the route.\n",
    "routes_dict = {\n",
    "    0: [0, 1, 2, 0],      # covers customers 1,2\n",
    "    1: [0, 3, 4, 0],      # covers customers 3,4\n",
    "    2: [0, 5, 6, 0],      # covers customers 5,6\n",
    "    3: [0, 1, 4, 6, 0],   # covers customers 1,4,6\n",
    "    4: [0, 2, 3, 5, 0],   # covers customers 2,3,5\n",
    "    5: [0, 6, 4, 3, 0],   # covers customers 6,4,3\n",
    "    6: [0, 2, 5, 4, 0],   # covers customers 2,5,4\n",
    "    7: [0, 3, 6, 5, 0],   # covers customers 3,6,5\n",
    "    8: [0, 1, 5, 0],      # covers customers 1,5\n",
    "    9: [0, 2, 4, 0]       # covers customers 2,4\n",
    "}\n",
    "\n",
    "# Define a cost for each route (dummy data for demonstration).\n",
    "# In real applications, cost would be sum of traveling arcs. \n",
    "cost = {\n",
    "    0: 25,  # route [0,1,2,0]\n",
    "    1: 20,  # route [0,3,4,0]\n",
    "    2: 23,  # route [0,5,6,0]\n",
    "    3: 30,  # route [0,1,4,6,0]\n",
    "    4: 28,  # route [0,2,3,5,0]\n",
    "    5: 33,  # route [0,6,4,3,0]\n",
    "    6: 18,  # route [0,2,5,4,0]\n",
    "    7: 27,  # route [0,3,6,5,0]\n",
    "    8: 15,  # route [0,1,5,0]\n",
    "    9: 22   # route [0,2,4,0]\n",
    "}\n",
    "\n",
    "Omega = list(routes_dict.keys())  # route indices\n",
    "\n",
    "# Build 'a[i,r]' = 1 if route r visits customer i, else 0\n",
    "a = {}\n",
    "for r in Omega:\n",
    "    visited_customers = [node for node in routes_dict[r] if node != 0]  # strip out depot\n",
    "    for i in range(1, n_customers + 1):\n",
    "        a[(i, r)] = 1 if i in visited_customers else 0"
   ]
  },
  {
   "cell_type": "markdown",
   "id": "badaf9ce",
   "metadata": {},
   "source": [
    "### Variables"
   ]
  },
  {
   "cell_type": "code",
   "execution_count": 4,
   "id": "70172026",
   "metadata": {},
   "outputs": [],
   "source": [
    "y = m.addVars(Omega, vtype=GRB.BINARY, name=\"y\")"
   ]
  },
  {
   "cell_type": "markdown",
   "id": "b5fc3519",
   "metadata": {},
   "source": [
    "## Mathematical Model of VRP (MTZ Formulation)"
   ]
  },
  {
   "cell_type": "markdown",
   "id": "674ab712",
   "metadata": {},
   "source": [
    "### Objective Function"
   ]
  },
  {
   "cell_type": "code",
   "execution_count": 5,
   "id": "eaea589e",
   "metadata": {},
   "outputs": [],
   "source": [
    "m.setObjective(gp.quicksum(cost[r] * y[r] for r in Omega), GRB.MINIMIZE)"
   ]
  },
  {
   "cell_type": "markdown",
   "id": "af88d973",
   "metadata": {},
   "source": [
    "### Subject to:"
   ]
  },
  {
   "cell_type": "code",
   "execution_count": 6,
   "id": "b24aeeb6",
   "metadata": {},
   "outputs": [],
   "source": [
    "# 1) Each customer visited exactly once\n",
    "for i in range(1, n_customers+1):\n",
    "    if i!=0:\n",
    "        m.addConstr(gp.quicksum(a[(i,r)] * y[r] for r in Omega) == 1)"
   ]
  },
  {
   "cell_type": "code",
   "execution_count": 7,
   "id": "36d7b5d1",
   "metadata": {},
   "outputs": [
    {
     "data": {
      "text/plain": [
       "<gurobi.Constr *Awaiting Model Update*>"
      ]
     },
     "execution_count": 7,
     "metadata": {},
     "output_type": "execute_result"
    }
   ],
   "source": [
    "# 2) At most K routes\n",
    "m.addConstr(gp.quicksum(y[r] for r in Omega) <= K)"
   ]
  },
  {
   "cell_type": "markdown",
   "id": "59dc0bc1",
   "metadata": {},
   "source": [
    "### Solve the VRP (Flow-Based Formulation)"
   ]
  },
  {
   "cell_type": "code",
   "execution_count": 8,
   "id": "105924c1",
   "metadata": {},
   "outputs": [
    {
     "name": "stdout",
     "output_type": "stream",
     "text": [
      "Gurobi Optimizer version 11.0.0 build v11.0.0rc2 (win64 - Windows 11+.0 (26100.2))\n",
      "\n",
      "CPU model: AMD Ryzen 7 4800H with Radeon Graphics, instruction set [SSE2|AVX|AVX2]\n",
      "Thread count: 8 physical cores, 16 logical processors, using up to 16 threads\n",
      "\n",
      "Optimize a model with 7 rows, 10 columns and 35 nonzeros\n",
      "Model fingerprint: 0x1dc9bf96\n",
      "Variable types: 0 continuous, 10 integer (10 binary)\n",
      "Coefficient statistics:\n",
      "  Matrix range     [1e+00, 1e+00]\n",
      "  Objective range  [2e+01, 3e+01]\n",
      "  Bounds range     [1e+00, 1e+00]\n",
      "  RHS range        [1e+00, 4e+00]\n",
      "Found heuristic solution: objective 68.0000000\n",
      "Presolve removed 7 rows and 10 columns\n",
      "Presolve time: 0.00s\n",
      "Presolve: All rows and columns removed\n",
      "\n",
      "Explored 0 nodes (0 simplex iterations) in 0.01 seconds (0.00 work units)\n",
      "Thread count was 1 (of 16 available processors)\n",
      "\n",
      "Solution count 2: 58 68 \n",
      "\n",
      "Optimal solution found (tolerance 1.00e-04)\n",
      "Best objective 5.800000000000e+01, best bound 5.800000000000e+01, gap 0.0000%\n"
     ]
    },
    {
     "data": {
      "image/png": "[encoded data removed]",
      "text/plain": [
       "<Figure size 640x480 with 1 Axes>"
      ]
     },
     "metadata": {},
     "output_type": "display_data"
    },
    {
     "name": "stdout",
     "output_type": "stream",
     "text": [
      "Optimal cost: 58.0\n",
      "Using route 3: [0, 1, 4, 6, 0]\n",
      "Using route 4: [0, 2, 3, 5, 0]\n"
     ]
    }
   ],
   "source": [
    "m.optimize()\n",
    "\n",
    "# -------------\n",
    "# NetworkX Plot\n",
    "# -------------\n",
    "if m.status == GRB.OPTIMAL:\n",
    "    sol_y = m.getAttr('x', y)\n",
    "    \n",
    "    # For the plot, we combine all chosen routes into one graph.\n",
    "    G = nx.DiGraph()\n",
    "    \n",
    "    # Add nodes\n",
    "    for node in range(n_customers+1):\n",
    "        G.add_node(node)\n",
    "    \n",
    "    # For each selected route, add edges\n",
    "    for r in Omega:\n",
    "        if sol_y[r] > 0.5:\n",
    "            route_nodes = routes_dict[r]\n",
    "            # If route_nodes = [0, 1, 2, 0], we'll draw edges (0->1), (1->2), (2->0).\n",
    "            for i in range(len(route_nodes)-1):\n",
    "                G.add_edge(route_nodes[i], route_nodes[i+1])\n",
    "    \n",
    "    pos = nx.spring_layout(G, seed=42)\n",
    "    nx.draw(G, pos, with_labels=True, node_size=500)\n",
    "    # For fun, label edges with \"r\" just to show which route they came from (optional)\n",
    "    # or skip edge labels if you prefer.\n",
    "    plt.title(\"Set Partitioning VRP Solution\")\n",
    "    plt.show()\n",
    "\n",
    "    print(\"Optimal cost:\", m.objVal)\n",
    "    for r in Omega:\n",
    "        if sol_y[r] > 0.5:\n",
    "            print(f\"Using route {r}: {routes_dict[r]}\")"
   ]
  },
  {
   "cell_type": "markdown",
   "id": "b49ec976",
   "metadata": {},
   "source": [
    "### Literature"
   ]
  },
  {
   "cell_type": "markdown",
   "id": "98e0d554",
   "metadata": {},
   "source": [
    "Laporte, Gilbert, (2009), Fifty Years of Vehicle Routing, Transportation Science, 43, issue 4, p. 408-416, https://EconPapers.repec.org/RePEc:inm:ortrsc:v:43:y:2009:i:4:p:408-416."
   ]
  }
 ],
 "metadata": {
  "kernelspec": {
   "display_name": "Python 3 (ipykernel)",
   "language": "python",
   "name": "python3"
  },
  "language_info": {
   "codemirror_mode": {
    "name": "ipython",
    "version": 3
   },
   "file_extension": ".py",
   "mimetype": "text/x-python",
   "name": "python",
   "nbconvert_exporter": "python",
   "pygments_lexer": "ipython3",
   "version": "3.11.5"
  }
 },
 "nbformat": 4,
 "nbformat_minor": 5
}
