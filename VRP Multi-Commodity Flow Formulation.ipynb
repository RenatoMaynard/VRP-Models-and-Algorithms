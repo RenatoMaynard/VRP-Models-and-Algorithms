{
 "cells": [
  {
   "cell_type": "markdown",
   "id": "bf61292a",
   "metadata": {},
   "source": [
    "# Multi-Commodity Flow Formulation\n"
   ]
  },
  {
   "cell_type": "markdown",
   "id": "ffe96b7d",
   "metadata": {},
   "source": [
    "#### Keywords: VRP,  Multi-Commodity Flow Formulation, IP, Gurobi, Python, Networkx"
   ]
  },
  {
   "cell_type": "markdown",
   "id": "193db7fc",
   "metadata": {},
   "source": [
    "$ \\text{Variables} $\n",
    "\n",
    "$x_{ij} =\n",
    "\\begin{cases}\n",
    "1 & \\text{if a vehicle goes from node } i \\text{ to node } j \\\\\n",
    "0 & \\text{otherwise}\n",
    "\\end{cases}\n",
    "$\n",
    "\n",
    "$f_{ij}^k$ is the flow of commodity $k$ on arc $(i, j)$  \n",
    "$\\mathcal{K}$ is the set of commodities (one per customer)  \n",
    "$d_i^k$ is the demand of customer $i$ for commodity $k$  \n",
    "$Q$ is the vehicle capacity\n",
    "\n",
    "\n",
    "\\begin{equation*}\n",
    "\\begin{aligned}\n",
    "& \\underset{}{\\text{Minimize}} \n",
    "& & \\sum_{i=0}^{n} \\sum_{\\substack{j=0 \\\\ j \\ne i}}^{n} c_{ij} \\cdot x_{ij} \\\\\n",
    "& \\text{Subject to} \\\\\n",
    "& & \\sum_{\\substack{j=0 \\\\ j \\ne i}}^{n} x_{ij} = 1, \n",
    "\\quad \\sum_{\\substack{j=0 \\\\ j \\ne i}}^{n} x_{ji} = 1,\n",
    "\\quad \\forall i = 1, \\ldots, n, \\\\\n",
    "& & \\sum_{j=1}^{n} x_{0j} = K, \n",
    "\\quad \\sum_{i=1}^{n} x_{i0} = K, \\\\\n",
    "& & \\sum_{j=0}^{n} f_{ij}^k - \\sum_{j=0}^{n} f_{ji}^k = d_i^k,\n",
    "\\quad \\forall i = 1, \\ldots, n,\\; \\forall k \\in \\mathcal{K}, \\\\\n",
    "& & \\sum_{k \\in \\mathcal{K}} f_{ij}^k \\le Q \\cdot x_{ij}, \n",
    "\\quad \\forall i,j = 0, \\ldots, n, \\\\\n",
    "& & x_{ij} \\in \\{0,1\\}, \n",
    "\\quad f_{ij}^k \\in \\mathbb{R}_+.\n",
    "\\end{aligned}\n",
    "\\end{equation*}\n"
   ]
  },
  {
   "cell_type": "markdown",
   "id": "b3d32032",
   "metadata": {},
   "source": [
    "##  Import Library and Model Enviroment"
   ]
  },
  {
   "cell_type": "code",
   "execution_count": 1,
   "id": "e8dea264",
   "metadata": {},
   "outputs": [
    {
     "name": "stdout",
     "output_type": "stream",
     "text": [
      "Set parameter Username\n",
      "Academic license - for non-commercial use only - expires 2026-03-13\n"
     ]
    }
   ],
   "source": [
    "import gurobipy as gp\n",
    "from gurobipy import GRB\n",
    "import networkx as nx\n",
    "import numpy as np\n",
    "import matplotlib.pyplot as plt\n",
    "m = gp.Model(\"VRP_MultiCommodity\")"
   ]
  },
  {
   "cell_type": "markdown",
   "id": "3db5d754",
   "metadata": {},
   "source": [
    "### Create Data and Matrix of Distances"
   ]
  },
  {
   "cell_type": "code",
   "execution_count": 2,
   "id": "2666f553",
   "metadata": {},
   "outputs": [],
   "source": [
    "n = 24  # number of customers\n",
    "K = 4  # number of vehicles\n",
    "Q = 15 # Capacity of vehicle\n",
    "d = [0] + list(np.random.randint(1, Q // 4 + 1, size=n))  # demands (0 for depot)\n",
    "\n",
    "# We treat each customer as a separate commodity => 1 commodity per customer.\n",
    "# Commodity set = {1, 2, 3, 4, 5} for 5 customers\n",
    "commodities = range(1, n+1)\n",
    "#Create a Random Matrix\n",
    "c = np.random.randint(1, 100, size=(n+1, n+1))\n",
    "# A_i,i = 0\n",
    "np.fill_diagonal(c, 0)"
   ]
  },
  {
   "cell_type": "markdown",
   "id": "badaf9ce",
   "metadata": {},
   "source": [
    "### Variables"
   ]
  },
  {
   "cell_type": "code",
   "execution_count": 3,
   "id": "70172026",
   "metadata": {},
   "outputs": [],
   "source": [
    "x = m.addVars(n+1, n+1, vtype=GRB.BINARY, name=\"x\")\n",
    "f = m.addVars(n+1, n+1, commodities, vtype=GRB.CONTINUOUS, lb=0, name=\"f\")"
   ]
  },
  {
   "cell_type": "markdown",
   "id": "b5fc3519",
   "metadata": {},
   "source": [
    "## Mathematical Model of VRP (MTZ Formulation)"
   ]
  },
  {
   "cell_type": "markdown",
   "id": "674ab712",
   "metadata": {},
   "source": [
    "### Objective Function"
   ]
  },
  {
   "cell_type": "code",
   "execution_count": 4,
   "id": "eaea589e",
   "metadata": {},
   "outputs": [],
   "source": [
    "m.setObjective(gp.quicksum(c[i][j]*x[i,j] for i in range(n+1) for j in range(n+1) if i != j),GRB.MINIMIZE)"
   ]
  },
  {
   "cell_type": "markdown",
   "id": "af88d973",
   "metadata": {},
   "source": [
    "### Subject to:"
   ]
  },
  {
   "cell_type": "code",
   "execution_count": 5,
   "id": "b24aeeb6",
   "metadata": {},
   "outputs": [],
   "source": [
    "# 1) Each customer in-degree/out-degree = 1\n",
    "for i in range(1, n+1):\n",
    "    m.addConstr(gp.quicksum(x[i,j] for j in range(n+1) if j != i) == 1)\n",
    "    m.addConstr(gp.quicksum(x[j,i] for j in range(n+1) if j != i) == 1)"
   ]
  },
  {
   "cell_type": "code",
   "execution_count": 7,
   "id": "36d7b5d1",
   "metadata": {},
   "outputs": [
    {
     "data": {
      "text/plain": [
       "<gurobi.Constr *Awaiting Model Update*>"
      ]
     },
     "execution_count": 7,
     "metadata": {},
     "output_type": "execute_result"
    }
   ],
   "source": [
    "# 2) Depot constraints\n",
    "m.addConstr(gp.quicksum(x[0,j] for j in range(1, n+1)) == K)\n",
    "m.addConstr(gp.quicksum(x[i,0] for i in range(1, n+1)) == K)"
   ]
  },
  {
   "cell_type": "code",
   "execution_count": 8,
   "id": "021f244b",
   "metadata": {},
   "outputs": [],
   "source": [
    "# 3) Flow conservation for each commodity\n",
    "for k in commodities:\n",
    "    for i in range(1, n+1):\n",
    "        # If i == k, net outflow - inflow = d[i], else 0\n",
    "        demand_i_k = d[i] if i == k else 0\n",
    "        m.addConstr(\n",
    "            gp.quicksum(f[i,j,k] for j in range(n+1)) \n",
    "            - gp.quicksum(f[j,i,k] for j in range(n+1)) \n",
    "            == demand_i_k\n",
    "        )"
   ]
  },
  {
   "cell_type": "code",
   "execution_count": 9,
   "id": "9407011b",
   "metadata": {},
   "outputs": [],
   "source": [
    "# 4) Capacity constraint: sum of all commodities <= Q if x[i,j] = 1\n",
    "for i in range(n+1):\n",
    "    for j in range(n+1):\n",
    "        if i != j:\n",
    "            m.addConstr(gp.quicksum(f[i,j,k] for k in commodities) <= Q * x[i,j])\n"
   ]
  },
  {
   "cell_type": "markdown",
   "id": "59dc0bc1",
   "metadata": {},
   "source": [
    "### Solve the VRP (Flow-Based Formulation)"
   ]
  },
  {
   "cell_type": "code",
   "execution_count": 10,
   "id": "105924c1",
   "metadata": {},
   "outputs": [
    {
     "name": "stdout",
     "output_type": "stream",
     "text": [
      "Gurobi Optimizer version 11.0.0 build v11.0.0rc2 (win64 - Windows 11+.0 (26100.2))\n",
      "\n",
      "CPU model: AMD Ryzen 7 4800H with Radeon Graphics, instruction set [SSE2|AVX|AVX2]\n",
      "Thread count: 8 physical cores, 16 logical processors, using up to 16 threads\n",
      "\n",
      "Optimize a model with 1226 rows, 15625 columns and 43848 nonzeros\n",
      "Model fingerprint: 0xce54d32a\n",
      "Variable types: 15000 continuous, 625 integer (625 binary)\n",
      "Coefficient statistics:\n",
      "  Matrix range     [1e+00, 2e+01]\n",
      "  Objective range  [1e+00, 1e+02]\n",
      "  Bounds range     [1e+00, 1e+00]\n",
      "  RHS range        [1e+00, 4e+00]\n",
      "Presolve removed 0 rows and 625 columns\n",
      "Presolve time: 0.10s\n",
      "Presolved: 1226 rows, 15000 columns, 43848 nonzeros\n",
      "Variable types: 14400 continuous, 600 integer (600 binary)\n",
      "\n",
      "Root relaxation: objective 2.374000e+02, 3485 iterations, 0.22 seconds (0.37 work units)\n",
      "\n",
      "    Nodes    |    Current Node    |     Objective Bounds      |     Work\n",
      " Expl Unexpl |  Obj  Depth IntInf | Incumbent    BestBd   Gap | It/Node Time\n",
      "\n",
      "     0     0  237.40000    0   10          -  237.40000      -     -    0s\n",
      "H    0     0                    1485.0000000  237.40000  84.0%     -    0s\n",
      "H    0     0                     288.0000000  237.96429  17.4%     -    0s\n",
      "     0     0  237.96429    0   17  288.00000  237.96429  17.4%     -    0s\n",
      "     0     0  238.28000    0   20  288.00000  238.28000  17.3%     -    0s\n",
      "     0     0  238.28000    0   10  288.00000  238.28000  17.3%     -    0s\n",
      "     0     0  238.28000    0   20  288.00000  238.28000  17.3%     -    1s\n",
      "     0     0  238.53333    0   20  288.00000  238.53333  17.2%     -    1s\n",
      "     0     0  239.26667    0   20  288.00000  239.26667  16.9%     -    1s\n",
      "     0     0  241.13333    0   22  288.00000  241.13333  16.3%     -    1s\n",
      "     0     0  241.33333    0   26  288.00000  241.33333  16.2%     -    1s\n",
      "     0     0  241.33333    0   30  288.00000  241.33333  16.2%     -    1s\n",
      "     0     0  241.33333    0   30  288.00000  241.33333  16.2%     -    1s\n",
      "     0     2  241.40000    0   30  288.00000  241.40000  16.2%     -    1s\n",
      "H   36    40                     252.0000000  241.40000  4.21%   515    2s\n",
      "*  138    18               5     249.0000000  241.40000  3.05%   210    2s\n",
      "\n",
      "Cutting planes:\n",
      "  Lift-and-project: 2\n",
      "  Cover: 1\n",
      "  Implied bound: 24\n",
      "  MIR: 23\n",
      "  Flow cover: 45\n",
      "  Flow path: 41\n",
      "  Inf proof: 5\n",
      "  Relax-and-lift: 1\n",
      "\n",
      "Explored 161 nodes (40326 simplex iterations) in 2.90 seconds (4.82 work units)\n",
      "Thread count was 16 (of 16 available processors)\n",
      "\n",
      "Solution count 4: 249 252 288 1485 \n",
      "\n",
      "Optimal solution found (tolerance 1.00e-04)\n",
      "Best objective 2.490000000000e+02, best bound 2.490000000000e+02, gap 0.0000%\n"
     ]
    },
    {
     "data": {
      "image/png": "[encoded data removed]",
      "text/plain": [
       "<Figure size 640x480 with 1 Axes>"
      ]
     },
     "metadata": {},
     "output_type": "display_data"
    },
    {
     "name": "stdout",
     "output_type": "stream",
     "text": [
      "Optimal cost: 249.0\n",
      "Vehicle route from 0 to 12\n",
      "Vehicle route from 0 to 17\n",
      "Vehicle route from 0 to 20\n",
      "Vehicle route from 0 to 24\n",
      "Vehicle route from 1 to 8\n",
      "Vehicle route from 2 to 18\n",
      "Vehicle route from 3 to 5\n",
      "Vehicle route from 4 to 19\n",
      "Vehicle route from 5 to 2\n",
      "Vehicle route from 6 to 4\n",
      "Vehicle route from 7 to 21\n",
      "Vehicle route from 8 to 0\n",
      "Vehicle route from 9 to 0\n",
      "Vehicle route from 10 to 7\n",
      "Vehicle route from 11 to 1\n",
      "Vehicle route from 12 to 22\n",
      "Vehicle route from 13 to 0\n",
      "Vehicle route from 14 to 6\n",
      "Vehicle route from 15 to 16\n",
      "Vehicle route from 16 to 11\n",
      "Vehicle route from 17 to 10\n",
      "Vehicle route from 18 to 23\n",
      "Vehicle route from 19 to 13\n",
      "Vehicle route from 20 to 15\n",
      "Vehicle route from 21 to 9\n",
      "Vehicle route from 22 to 3\n",
      "Vehicle route from 23 to 0\n",
      "Vehicle route from 24 to 14\n"
     ]
    }
   ],
   "source": [
    "m.optimize()\n",
    "\n",
    "# -------------\n",
    "# NetworkX Plot\n",
    "# -------------\n",
    "if m.status == GRB.OPTIMAL:\n",
    "    sol_x = m.getAttr('x', x)\n",
    "    \n",
    "    G = nx.DiGraph()\n",
    "    for i in range(n+1):\n",
    "        G.add_node(i)\n",
    "    for i in range(n+1):\n",
    "        for j in range(n+1):\n",
    "            if i != j and sol_x[i,j] > 0.5:\n",
    "                G.add_edge(i, j)\n",
    "    \n",
    "    pos = nx.spring_layout(G, seed=42)\n",
    "    nx.draw(G, pos, with_labels=True, node_size=500)\n",
    "    edge_labels = {(i, j): c[i][j] for (i, j) in G.edges()}\n",
    "    nx.draw_networkx_edge_labels(G, pos, edge_labels=edge_labels)\n",
    "    plt.title(\"Multi-Commodity Flow VRP Solution\")\n",
    "    plt.show()\n",
    "    \n",
    "    print(\"Optimal cost:\", m.objVal)\n",
    "    for i in range(n+1):\n",
    "        for j in range(n+1):\n",
    "            if i != j and sol_x[i,j] > 0.5:\n",
    "                print(f\"Vehicle route from {i} to {j}\")"
   ]
  },
  {
   "cell_type": "markdown",
   "id": "b49ec976",
   "metadata": {},
   "source": [
    "### Literature"
   ]
  },
  {
   "cell_type": "markdown",
   "id": "98e0d554",
   "metadata": {},
   "source": [
    "Baldacci, R., Mingozzi, A., & Roberti, R. (2012). Recent exact algorithms for solving the vehicle routing problem\n",
    "under capacity and time window constraints. European Journal of Operational Research, 218(1), 1-6.\n",
    "https://doi.org/10.1016/j.ejor.2011.07.037"
   ]
  }
 ],
 "metadata": {
  "kernelspec": {
   "display_name": "Python 3 (ipykernel)",
   "language": "python",
   "name": "python3"
  },
  "language_info": {
   "codemirror_mode": {
    "name": "ipython",
    "version": 3
   },
   "file_extension": ".py",
   "mimetype": "text/x-python",
   "name": "python",
   "nbconvert_exporter": "python",
   "pygments_lexer": "ipython3",
   "version": "3.11.5"
  }
 },
 "nbformat": 4,
 "nbformat_minor": 5
}
