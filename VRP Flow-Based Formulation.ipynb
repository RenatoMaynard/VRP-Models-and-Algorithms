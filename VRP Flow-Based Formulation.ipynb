{
 "cells": [
  {
   "cell_type": "markdown",
   "id": "bf61292a",
   "metadata": {},
   "source": [
    "#  VRP Flow-Based Formulation"
   ]
  },
  {
   "cell_type": "markdown",
   "id": "ffe96b7d",
   "metadata": {},
   "source": [
    "#### Keywords: VRP, Flow-Based, IP, Gurobi, Python, Networkx"
   ]
  },
  {
   "cell_type": "markdown",
   "id": "193db7fc",
   "metadata": {},
   "source": [
    "$ \\text{Variables} $\n",
    "\n",
    "$x_{ij} =\n",
    "\\begin{cases}\n",
    "1 & \\text{if the vehicle travels from node } i \\text{ to node } j \\\\\n",
    "0 & \\text{otherwise}\n",
    "\\end{cases}\n",
    "$\n",
    "\n",
    "$f_{ij}$ is the amount of flow (demand) carried on arc $(i,j)$\n",
    "\n",
    "$K$ is the number of vehicles, $Q$ is vehicle capacity, and $d_i$ is demand at node $i$\n",
    "\n",
    "\\begin{equation*}\n",
    "\\begin{aligned}\n",
    "& \\underset{}{\\text{Minimize}} \n",
    "& & \\sum_{i=0}^{n} \\sum_{\\substack{j=0 \\\\ j \\ne i}}^{n} c_{ij} \\cdot x_{ij} \\\\\n",
    "& \\text{Subject to} \\\\\n",
    "& & \\sum_{\\substack{j=0 \\\\ j \\ne i}}^{n} x_{ij} = 1, \\quad i = 1,\\ldots,n, \\\\\n",
    "& & \\sum_{\\substack{i=0 \\\\ i \\ne j}}^{n} x_{ij} = 1, \\quad j = 1,\\ldots,n, \\\\\n",
    "& & \\sum_{j=1}^{n} x_{0j} = K, \\quad \\sum_{i=1}^{n} x_{i0} = K, \\\\\n",
    "& & \\sum_{j=0}^{n} f_{ij} - \\sum_{j=0}^{n} f_{ji} = d_i, \\quad i = 1,\\ldots,n, \\\\\n",
    "& & f_{ij} \\le Q \\cdot x_{ij}, \\quad \\forall i,j = 0,\\ldots,n, \\\\\n",
    "& & x_{ij} \\in \\{0,1\\}, \\quad \\forall i \\ne j,\\ i,j = 0,\\ldots,n, \\\\\n",
    "& & f_{ij} \\in \\mathbb{R}_+, \\quad \\forall i,j = 0,\\ldots,n.\n",
    "\\end{aligned}\n",
    "\\end{equation*}\n",
    "\n"
   ]
  },
  {
   "cell_type": "markdown",
   "id": "b3d32032",
   "metadata": {},
   "source": [
    "##  Import Library and Model Enviroment"
   ]
  },
  {
   "cell_type": "code",
   "execution_count": 1,
   "id": "e8dea264",
   "metadata": {},
   "outputs": [
    {
     "name": "stdout",
     "output_type": "stream",
     "text": [
      "Set parameter Username\n",
      "Academic license - for non-commercial use only - expires 2026-03-13\n"
     ]
    }
   ],
   "source": [
    "import gurobipy as gp\n",
    "from gurobipy import GRB\n",
    "import networkx as nx\n",
    "import numpy as np\n",
    "import matplotlib.pyplot as plt\n",
    "m = gp.Model(\"VRP_Flow\")"
   ]
  },
  {
   "cell_type": "markdown",
   "id": "3db5d754",
   "metadata": {},
   "source": [
    "### Create Data and Matrix of Distances"
   ]
  },
  {
   "cell_type": "code",
   "execution_count": 2,
   "id": "2666f553",
   "metadata": {},
   "outputs": [],
   "source": [
    "n = 24  # number of customers\n",
    "K = 4  # number of vehicles\n",
    "Q = 15 # Capacity of vehicle\n",
    "d = [0] + list(np.random.randint(1, Q // 4 + 1, size=n))  # demands (0 for depot)\n",
    "\n",
    "#Create a Random Matrix\n",
    "c = np.random.randint(1, 100, size=(n+1, n+1))\n",
    "# A_i,i = 0\n",
    "np.fill_diagonal(c, 0)"
   ]
  },
  {
   "cell_type": "markdown",
   "id": "badaf9ce",
   "metadata": {},
   "source": [
    "### Variables"
   ]
  },
  {
   "cell_type": "code",
   "execution_count": 3,
   "id": "70172026",
   "metadata": {},
   "outputs": [],
   "source": [
    "x = m.addVars(n+1, n+1, vtype=GRB.BINARY, name=\"x\")\n",
    "f = m.addVars(n+1, n+1, vtype=GRB.CONTINUOUS, lb=0, name=\"f\")"
   ]
  },
  {
   "cell_type": "markdown",
   "id": "b5fc3519",
   "metadata": {},
   "source": [
    "## Mathematical Model of VRP (MTZ Formulation)"
   ]
  },
  {
   "cell_type": "markdown",
   "id": "674ab712",
   "metadata": {},
   "source": [
    "### Objective Function"
   ]
  },
  {
   "cell_type": "code",
   "execution_count": 4,
   "id": "eaea589e",
   "metadata": {},
   "outputs": [],
   "source": [
    "m.setObjective(\n",
    "    gp.quicksum(c[i][j] * x[i,j] for i in range(n+1) for j in range(n+1) if i != j),\n",
    "    GRB.MINIMIZE\n",
    ")"
   ]
  },
  {
   "cell_type": "markdown",
   "id": "af88d973",
   "metadata": {},
   "source": [
    "### Subject to:"
   ]
  },
  {
   "cell_type": "code",
   "execution_count": 5,
   "id": "b24aeeb6",
   "metadata": {},
   "outputs": [],
   "source": [
    "# 1) Each customer visited exactly once\n",
    "for i in range(1, n+1):\n",
    "    m.addConstr(gp.quicksum(x[i,j] for j in range(n+1) if j != i) == 1)\n",
    "    m.addConstr(gp.quicksum(x[j,i] for j in range(n+1) if j != i) == 1)"
   ]
  },
  {
   "cell_type": "code",
   "execution_count": 6,
   "id": "36d7b5d1",
   "metadata": {},
   "outputs": [
    {
     "data": {
      "text/plain": [
       "<gurobi.Constr *Awaiting Model Update*>"
      ]
     },
     "execution_count": 6,
     "metadata": {},
     "output_type": "execute_result"
    }
   ],
   "source": [
    "# 2) Depot constraints\n",
    "m.addConstr(gp.quicksum(x[0,j] for j in range(1, n+1)) == K)\n",
    "m.addConstr(gp.quicksum(x[i,0] for i in range(1, n+1)) == K)"
   ]
  },
  {
   "cell_type": "code",
   "execution_count": 7,
   "id": "84852953",
   "metadata": {},
   "outputs": [],
   "source": [
    "# 3) Flow conservation\n",
    "for i in range(1, n+1):\n",
    "    m.addConstr(\n",
    "        gp.quicksum(f[i,j] for j in range(n+1)) \n",
    "        - gp.quicksum(f[j,i] for j in range(n+1)) \n",
    "        == d[i])"
   ]
  },
  {
   "cell_type": "code",
   "execution_count": 8,
   "id": "84d1d183",
   "metadata": {},
   "outputs": [],
   "source": [
    "# 4) Flow capacity on edges\n",
    "for i in range(n+1):\n",
    "    for j in range(n+1):\n",
    "        if i != j:\n",
    "            m.addConstr(f[i,j] <= Q * x[i,j])"
   ]
  },
  {
   "cell_type": "markdown",
   "id": "59dc0bc1",
   "metadata": {},
   "source": [
    "### Solve the VRP (Flow-Based Formulation)"
   ]
  },
  {
   "cell_type": "code",
   "execution_count": 9,
   "id": "105924c1",
   "metadata": {},
   "outputs": [
    {
     "name": "stdout",
     "output_type": "stream",
     "text": [
      "Gurobi Optimizer version 11.0.0 build v11.0.0rc2 (win64 - Windows 11+.0 (26100.2))\n",
      "\n",
      "CPU model: AMD Ryzen 7 4800H with Radeon Graphics, instruction set [SSE2|AVX|AVX2]\n",
      "Thread count: 8 physical cores, 16 logical processors, using up to 16 threads\n",
      "\n",
      "Optimize a model with 674 rows, 1250 columns and 3552 nonzeros\n",
      "Model fingerprint: 0x8f83061a\n",
      "Variable types: 625 continuous, 625 integer (625 binary)\n",
      "Coefficient statistics:\n",
      "  Matrix range     [1e+00, 2e+01]\n",
      "  Objective range  [1e+00, 1e+02]\n",
      "  Bounds range     [1e+00, 1e+00]\n",
      "  RHS range        [1e+00, 4e+00]\n",
      "Presolve removed 0 rows and 50 columns\n",
      "Presolve time: 0.01s\n",
      "Presolved: 674 rows, 1200 columns, 3552 nonzeros\n",
      "Variable types: 600 continuous, 600 integer (600 binary)\n",
      "Found heuristic solution: objective 2099.0000000\n",
      "\n",
      "Root relaxation: objective 1.881000e+02, 785 iterations, 0.01 seconds (0.01 work units)\n",
      "\n",
      "    Nodes    |    Current Node    |     Objective Bounds      |     Work\n",
      " Expl Unexpl |  Obj  Depth IntInf | Incumbent    BestBd   Gap | It/Node Time\n",
      "\n",
      "     0     0  188.10000    0   29 2099.00000  188.10000  91.0%     -    0s\n",
      "H    0     0                     218.0000000  188.10000  13.7%     -    0s\n",
      "H    0     0                     214.0000000  188.10000  12.1%     -    0s\n",
      "     0     0  189.71154    0   20  214.00000  189.71154  11.3%     -    0s\n",
      "     0     0  189.71154    0   28  214.00000  189.71154  11.3%     -    0s\n",
      "     0     0  189.71154    0   23  214.00000  189.71154  11.3%     -    0s\n",
      "H    0     0                     207.0000000  189.82353  8.30%     -    0s\n",
      "H    0     0                     201.0000000  189.82353  5.56%     -    0s\n",
      "H    0     0                     195.0000000  189.82353  2.65%     -    0s\n",
      "     0     0  190.09775    0   42  195.00000  190.09775  2.51%     -    0s\n",
      "     0     0  190.09775    0   13  195.00000  190.09775  2.51%     -    0s\n",
      "     0     0  190.09775    0   10  195.00000  190.09775  2.51%     -    0s\n",
      "H    0     0                     194.0000000  190.14810  1.99%     -    0s\n",
      "     0     0  190.20000    0   17  194.00000  190.20000  1.96%     -    0s\n",
      "     0     0  190.53333    0   24  194.00000  190.53333  1.79%     -    0s\n",
      "     0     0  190.53333    0   24  194.00000  190.53333  1.79%     -    0s\n",
      "     0     0  191.74568    0   25  194.00000  191.74568  1.16%     -    0s\n",
      "     0     0  194.00000    0   23  194.00000  194.00000  0.00%     -    0s\n",
      "\n",
      "Cutting planes:\n",
      "  Gomory: 1\n",
      "  Implied bound: 4\n",
      "  MIR: 7\n",
      "  Flow cover: 11\n",
      "  Flow path: 3\n",
      "  Network: 1\n",
      "  Relax-and-lift: 2\n",
      "\n",
      "Explored 1 nodes (1659 simplex iterations) in 0.16 seconds (0.09 work units)\n",
      "Thread count was 16 (of 16 available processors)\n",
      "\n",
      "Solution count 8: 194 195 201 ... 2099\n",
      "\n",
      "Optimal solution found (tolerance 1.00e-04)\n",
      "Best objective 1.940000000000e+02, best bound 1.940000000000e+02, gap 0.0000%\n"
     ]
    },
    {
     "data": {
      "image/png": "[encoded data removed]",
      "text/plain": [
       "<Figure size 640x480 with 1 Axes>"
      ]
     },
     "metadata": {},
     "output_type": "display_data"
    },
    {
     "name": "stdout",
     "output_type": "stream",
     "text": [
      "Optimal cost: 194.0\n",
      "Route from 0 to 9\n",
      "Route from 0 to 11\n",
      "Route from 0 to 14\n",
      "Route from 0 to 16\n",
      "Route from 1 to 19\n",
      "Route from 2 to 0\n",
      "Route from 3 to 23\n",
      "Route from 4 to 6\n",
      "Route from 5 to 10\n",
      "Route from 6 to 15\n",
      "Route from 7 to 0\n",
      "Route from 8 to 0\n",
      "Route from 9 to 4\n",
      "Route from 10 to 8\n",
      "Route from 11 to 18\n",
      "Route from 12 to 1\n",
      "Route from 13 to 7\n",
      "Route from 14 to 3\n",
      "Route from 15 to 12\n",
      "Route from 16 to 21\n",
      "Route from 17 to 13\n",
      "Route from 18 to 24\n",
      "Route from 19 to 0\n",
      "Route from 20 to 22\n",
      "Route from 21 to 20\n",
      "Route from 22 to 5\n",
      "Route from 23 to 17\n",
      "Route from 24 to 2\n"
     ]
    }
   ],
   "source": [
    "m.optimize()\n",
    "\n",
    "# -------------\n",
    "# NetworkX Plot\n",
    "# -------------\n",
    "if m.status == GRB.OPTIMAL:\n",
    "    sol_x = m.getAttr('x', x)\n",
    "    \n",
    "    G = nx.DiGraph()\n",
    "    for i in range(n+1):\n",
    "        G.add_node(i)\n",
    "    for i in range(n+1):\n",
    "        for j in range(n+1):\n",
    "            if i != j and sol_x[i,j] > 0.5:\n",
    "                G.add_edge(i, j)\n",
    "\n",
    "    pos = nx.spring_layout(G, seed=42)\n",
    "    nx.draw(G, pos, with_labels=True, node_size=500)\n",
    "    edge_labels = {(i, j): c[i][j] for (i, j) in G.edges()}\n",
    "    nx.draw_networkx_edge_labels(G, pos, edge_labels=edge_labels)\n",
    "    plt.title(\"Flow-Based VRP Solution\")\n",
    "    plt.show()\n",
    "\n",
    "    print(\"Optimal cost:\", m.objVal)\n",
    "    for i in range(n+1):\n",
    "        for j in range(n+1):\n",
    "            if i != j and sol_x[i,j] > 0.5:\n",
    "                print(f\"Route from {i} to {j}\")"
   ]
  },
  {
   "cell_type": "markdown",
   "id": "b49ec976",
   "metadata": {},
   "source": [
    "### Literature"
   ]
  },
  {
   "cell_type": "markdown",
   "id": "98e0d554",
   "metadata": {},
   "source": [
    "Toth, P. and Vigo, D. (2014). Vehicle Routing: Problems, Methods, and Applications, 2nd ed. SIAM. A comprehensive book on VRP formulations, algorithms, and variants."
   ]
  }
 ],
 "metadata": {
  "kernelspec": {
   "display_name": "Python 3 (ipykernel)",
   "language": "python",
   "name": "python3"
  },
  "language_info": {
   "codemirror_mode": {
    "name": "ipython",
    "version": 3
   },
   "file_extension": ".py",
   "mimetype": "text/x-python",
   "name": "python",
   "nbconvert_exporter": "python",
   "pygments_lexer": "ipython3",
   "version": "3.11.5"
  }
 },
 "nbformat": 4,
 "nbformat_minor": 5
}
